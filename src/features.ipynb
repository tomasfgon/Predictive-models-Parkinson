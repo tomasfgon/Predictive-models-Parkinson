{
 "cells": [
  {
   "cell_type": "code",
   "execution_count": 1,
   "metadata": {},
   "outputs": [],
   "source": [
    "import pandas as pd\n",
    "import parselmouth\n",
    "\n",
    "from parselmouth.praat import call\n",
    "import parselmouth\n",
    "\n",
    "import os"
   ]
  },
  {
   "cell_type": "code",
   "execution_count": 2,
   "metadata": {},
   "outputs": [],
   "source": [
    "\n",
    "\n",
    "def getFeatures(voiceID, f0min, f0max, unit):\n",
    "    try:\n",
    "        sound = parselmouth.Sound(voiceID) # read the sound\n",
    "        duration = call(sound, \"Get total duration\") # duration\n",
    "        pitch = call(sound, \"To Pitch\", 0.0, f0min, f0max) #create a praat pitch object\n",
    "\n",
    "\n",
    "        meanF0 = call(pitch, \"Get mean\", 0, 0, unit) #MDVP:Fo(Hz)\n",
    "        # get standard deviation\n",
    "        stdevF0 = call(pitch, \"Get standard deviation\", 0 ,0, unit) \n",
    "        harmonicity = call(sound, \"To Harmonicity (cc)\", 0.01, f0min, 0.1, 1.0)\n",
    "        hnr = call(harmonicity, \"Get mean\", 0, 0) #HNR\n",
    "        \n",
    "        pointProcess = call(sound, \"To PointProcess (periodic, cc)\", f0min, f0max)\n",
    "        localJitter = call(pointProcess, \"Get jitter (local)\", 0, 0, 0.0001, 0.02, 1.3) #MDVP:Jitter(%)\n",
    "        localabsoluteJitter = call(pointProcess, \"Get jitter (local, absolute)\", 0, 0, 0.0001, 0.02, 1.3) #MDVP:Jitter(Abs)\n",
    "        rapJitter = call(pointProcess, \"Get jitter (rap)\", 0, 0, 0.0001, 0.02, 1.3) #MDVP:RAP\n",
    "        ppq5Jitter = call(pointProcess, \"Get jitter (ppq5)\", 0, 0, 0.0001, 0.02, 1.3) #MDVP:PPQ\n",
    "        ddpJitter = call(pointProcess, \"Get jitter (ddp)\", 0, 0, 0.0001, 0.02, 1.3) #Jitter:DDP\n",
    "        localShimmer =  call([sound, pointProcess], \"Get shimmer (local)\", 0, 0, 0.0001, 0.02, 1.3, 1.6) #MDVP:Shimmer\n",
    "        localdbShimmer = call([sound, pointProcess], \"Get shimmer (local_dB)\", 0, 0, 0.0001, 0.02, 1.3, 1.6) #MDVP:Shimmer(dB)\n",
    "        apq3Shimmer = call([sound, pointProcess], \"Get shimmer (apq3)\", 0, 0, 0.0001, 0.02, 1.3, 1.6) #Shimmer:APQ3\n",
    "        aqpq5Shimmer = call([sound, pointProcess], \"Get shimmer (apq5)\", 0, 0, 0.0001, 0.02, 1.3, 1.6) #Shimmer:APQ5\n",
    "        apq11Shimmer =  call([sound, pointProcess], \"Get shimmer (apq11)\", 0, 0, 0.0001, 0.02, 1.3, 1.6)\n",
    "        ddaShimmer = call([sound, pointProcess], \"Get shimmer (dda)\", 0, 0, 0.0001, 0.02, 1.3, 1.6)\n",
    "\n",
    "        \n",
    "        \n",
    "        return duration, meanF0, stdevF0, hnr, localJitter, localabsoluteJitter, rapJitter, ppq5Jitter, ddpJitter, localShimmer, localdbShimmer, apq3Shimmer, aqpq5Shimmer, apq11Shimmer, ddaShimmer\n",
    "    except:\n",
    "        print(\"file \" + voiceID + \" was not read because it is not a sound file\")\n",
    "        return -1"
   ]
  },
  {
   "cell_type": "code",
   "execution_count": 3,
   "metadata": {},
   "outputs": [],
   "source": [
    "def getListOfAudioFiles(dir_path):\n",
    "    #print list of sound files in directory\n",
    "    res = []\n",
    "    # Iterate directory\n",
    "    for file_path in os.listdir(dir_path):\n",
    "        # check if current file_path is a file\n",
    "        if os.path.isfile(os.path.join(dir_path, file_path)):\n",
    "            # add filename to list\n",
    "            res.append(file_path)\n",
    "    return(res)\n",
    "\n",
    "\n",
    "#print(getListOfAudioFiles('/Users/tomas/Documents/Tese/src/ficheiros'))"
   ]
  },
  {
   "cell_type": "code",
   "execution_count": 4,
   "metadata": {},
   "outputs": [
    {
     "name": "stdout",
     "output_type": "stream",
     "text": [
      "file ../data/PD//.DS_Store was not read because it is not a sound file\n"
     ]
    }
   ],
   "source": [
    "pd_audiofiles_path = '../data/PD/'\n",
    "control_audiofiles_path = '../data/Control'\n",
    "\n",
    "pd_audiofiles_names = getListOfAudioFiles(pd_audiofiles_path)\n",
    "control_audiofiles_names = getListOfAudioFiles(control_audiofiles_path)\n",
    "\n",
    "original_features_df = pd.DataFrame(columns=['Duration', 'meanF0', 'stdevF0', 'hnr', 'localJitter', 'localabsoluteJitter', 'rapJitter', 'ppq5Jitter', 'ddpJitter', 'localShimmer', 'localdbShimmer', 'apq3Shimmer', 'aqpq5Shimmer', 'apq11Shimmer', 'ddaShimmer', 'PD'])\n",
    "\n",
    "\n",
    "for i in range(len(pd_audiofiles_names)-1):\n",
    "    values = getFeatures(pd_audiofiles_path+'/'+pd_audiofiles_names[i], 75, 500, \"Hertz\")\n",
    "    if values!=-1:\n",
    "        duration, meanF0, stdevF0, hnr, localJitter, localabsoluteJitter, rapJitter, ppq5Jitter, ddpJitter, localShimmer, localdbShimmer, apq3Shimmer, aqpq5Shimmer, apq11Shimmer, ddaShimmer = values\n",
    "        original_features_df.loc[len(original_features_df)] = [duration, meanF0, stdevF0, hnr, localJitter, localabsoluteJitter, rapJitter, ppq5Jitter, ddpJitter, localShimmer, localdbShimmer, apq3Shimmer, aqpq5Shimmer, apq11Shimmer, ddaShimmer,1]\n",
    "\n",
    "for i in range(len(control_audiofiles_names)-1):\n",
    "    values = getFeatures(control_audiofiles_path+'/'+control_audiofiles_names[i], 75, 500, \"Hertz\")\n",
    "    if values!=-1:\n",
    "        duration, meanF0, stdevF0, hnr, localJitter, localabsoluteJitter, rapJitter, ppq5Jitter, ddpJitter, localShimmer, localdbShimmer, apq3Shimmer, aqpq5Shimmer, apq11Shimmer, ddaShimmer = values\n",
    "        original_features_df.loc[len(original_features_df)] = [duration, meanF0, stdevF0, hnr, localJitter, localabsoluteJitter, rapJitter, ppq5Jitter, ddpJitter, localShimmer, localdbShimmer, apq3Shimmer, aqpq5Shimmer, apq11Shimmer, ddaShimmer,0]\n",
    "\n",
    "\n"
   ]
  },
  {
   "cell_type": "code",
   "execution_count": null,
   "metadata": {},
   "outputs": [],
   "source": [
    "outname = 'original_features.csv'\n",
    "\n",
    "outdir = '../data/tables/'\n",
    "if not os.path.exists(outdir):\n",
    "    os.mkdir(outdir)\n",
    "\n",
    "original_features_df.to_csv(os.path.join(outdir, outname),index=False)"
   ]
  }
 ],
 "metadata": {
  "kernelspec": {
   "display_name": "venv",
   "language": "python",
   "name": "python3"
  },
  "language_info": {
   "codemirror_mode": {
    "name": "ipython",
    "version": 3
   },
   "file_extension": ".py",
   "mimetype": "text/x-python",
   "name": "python",
   "nbconvert_exporter": "python",
   "pygments_lexer": "ipython3",
   "version": "3.11.6"
  }
 },
 "nbformat": 4,
 "nbformat_minor": 2
}
