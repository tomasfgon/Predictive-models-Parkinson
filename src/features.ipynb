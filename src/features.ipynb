{
 "cells": [
  {
   "cell_type": "code",
   "execution_count": 1,
   "metadata": {},
   "outputs": [],
   "source": [
    "import pandas as pd\n",
    "import parselmouth\n",
    "\n",
    "from parselmouth.praat import call\n",
    "import parselmouth\n",
    "from fnmatch import fnmatch\n",
    "from tqdm.notebook import tqdm\n",
    "import numpy as np\n",
    "from datetime import datetime\n",
    "import os"
   ]
  },
  {
   "cell_type": "code",
   "execution_count": null,
   "metadata": {},
   "outputs": [],
   "source": [
    "flag_extract_mfcc = False"
   ]
  },
  {
   "cell_type": "code",
   "execution_count": 2,
   "metadata": {},
   "outputs": [],
   "source": [
    "\n",
    "\n",
    "def getFeatures(voiceID, f0min, f0max, unit):\n",
    "    try:\n",
    "        sound = parselmouth.Sound(voiceID) # read the sound\n",
    "        duration = call(sound, \"Get total duration\") # duration\n",
    "        pitch = call(sound, \"To Pitch\", 0.0, f0min, f0max) #create a praat pitch object\n",
    "\n",
    "\n",
    "        meanF0 = call(pitch, \"Get mean\", 0, 0, unit) #MDVP:Fo(Hz)\n",
    "        # get standard deviation\n",
    "        stdevF0 = call(pitch, \"Get standard deviation\", 0 ,0, unit) \n",
    "        harmonicity = call(sound, \"To Harmonicity (cc)\", 0.01, f0min, 0.1, 1.0)\n",
    "        hnr = call(harmonicity, \"Get mean\", 0, 0) #HNR\n",
    "        pointProcess = call(sound, \"To PointProcess (periodic, cc)\", f0min, f0max)\n",
    "        localJitter = call(pointProcess, \"Get jitter (local)\", 0, 0, 0.0001, 0.02, 1.3) #MDVP:Jitter(%)\n",
    "        localabsoluteJitter = call(pointProcess, \"Get jitter (local, absolute)\", 0, 0, 0.0001, 0.02, 1.3) #MDVP:Jitter(Abs)\n",
    "        rapJitter = call(pointProcess, \"Get jitter (rap)\", 0, 0, 0.0001, 0.02, 1.3) #MDVP:RAP\n",
    "        ppq5Jitter = call(pointProcess, \"Get jitter (ppq5)\", 0, 0, 0.0001, 0.02, 1.3) #MDVP:PPQ\n",
    "        ddpJitter = call(pointProcess, \"Get jitter (ddp)\", 0, 0, 0.0001, 0.02, 1.3) #Jitter:DDP\n",
    "        localShimmer =  call([sound, pointProcess], \"Get shimmer (local)\", 0, 0, 0.0001, 0.02, 1.3, 1.6) #MDVP:Shimmer\n",
    "        localdbShimmer = call([sound, pointProcess], \"Get shimmer (local_dB)\", 0, 0, 0.0001, 0.02, 1.3, 1.6) #MDVP:Shimmer(dB)\n",
    "        apq3Shimmer = call([sound, pointProcess], \"Get shimmer (apq3)\", 0, 0, 0.0001, 0.02, 1.3, 1.6) #Shimmer:APQ3\n",
    "        aqpq5Shimmer = call([sound, pointProcess], \"Get shimmer (apq5)\", 0, 0, 0.0001, 0.02, 1.3, 1.6) #Shimmer:APQ5\n",
    "        apq11Shimmer =  call([sound, pointProcess], \"Get shimmer (apq11)\", 0, 0, 0.0001, 0.02, 1.3, 1.6)\n",
    "        ddaShimmer = call([sound, pointProcess], \"Get shimmer (dda)\", 0, 0, 0.0001, 0.02, 1.3, 1.6)\n",
    "\n",
    "        \n",
    "        #print(\"file \" + voiceID + \" was read successfuly\")\n",
    "        return duration, meanF0, stdevF0, hnr, localJitter, localabsoluteJitter, rapJitter, ppq5Jitter, ddpJitter, localShimmer, localdbShimmer, apq3Shimmer, aqpq5Shimmer, apq11Shimmer, ddaShimmer\n",
    "    except Exception as exc:\n",
    "        #print(exc)\n",
    "        print(\"file \" + voiceID + \" was not read because it is not a sound file - \")\n",
    "        return -1"
   ]
  },
  {
   "cell_type": "code",
   "execution_count": 3,
   "metadata": {},
   "outputs": [],
   "source": [
    "def flag_extract_mfcc(voiceID):\n",
    "        try:\n",
    "        \n",
    "            \"\"\"\n",
    "            Extracts the mel frequency ceptral coefficients from the voice sample\n",
    "\n",
    "            Parameters:\n",
    "            voiceID : .wav file\n",
    "                the voice sample we want to extract the features from\n",
    "            \"\"\"\n",
    "\n",
    "            sound = parselmouth.Sound(voiceID)\n",
    "            mfcc_object = sound.to_mfcc(number_of_coefficients=12) #the optimal number of coeefficient used is 12\n",
    "            mfcc = mfcc_object.to_array()\n",
    "            mfcc_mean = np.mean(mfcc.T,axis=0)\n",
    "            [mfcc0, mfcc1, mfcc2, mfcc3, mfcc4, mfcc5, mfcc6, mfcc7, mfcc8, mfcc9, mfcc10, mfcc11, mfcc12] = mfcc_mean\n",
    "            return mfcc0, mfcc1, mfcc2, mfcc3, mfcc4, mfcc5, mfcc6, mfcc7, mfcc8, mfcc9, mfcc10, mfcc11, mfcc12\n",
    "        except Exception as exc:\n",
    "            #print(exc)\n",
    "            print(\"file \" + voiceID + \" was not read because it is not a sound file - \")\n",
    "            return -1\n",
    "\n",
    "\n"
   ]
  },
  {
   "cell_type": "code",
   "execution_count": 4,
   "metadata": {},
   "outputs": [],
   "source": [
    "\"\"\"\n",
    "def getListOfAudioFiles(dir_path):\n",
    "    #print list of sound files in directory\n",
    "    res = []\n",
    "    # Iterate directory\n",
    "    for file_path in os.listdir(dir_path):\n",
    "        # check if current file_path is a file\n",
    "        if os.path.isfile(os.path.join(dir_path, file_path)):\n",
    "            # add filename to list\n",
    "            res.append(file_path)\n",
    "    return(res)\n",
    "    \"\"\"\n",
    "\n",
    "def getListOfAudioFiles(dir_path):\n",
    "    res= []\n",
    "    pattern = \"*.wav\"\n",
    "\n",
    "    for path, subdirs, files in os.walk(dir_path):\n",
    "        for name in files:\n",
    "            if fnmatch(name, pattern):\n",
    "                res.append(os.path.join(name))\n",
    "    return(res)\n",
    "\n",
    "\n"
   ]
  },
  {
   "cell_type": "code",
   "execution_count": 5,
   "metadata": {},
   "outputs": [],
   "source": [
    "italian_pd_audiofiles_path = '../data/Italian_PD'\n",
    "italian_control_audiofiles_path = '../data/Italian_HC'\n",
    "mdvr_pd_audiofiles_path = '../data/MDVR_PD'\n",
    "mdvr_control_audiofiles_path = '../data/MDVR_HC'\n",
    "\n",
    "def getFeaturesFromAudioFiles(pd_audiofiles_path, control_audiofiles_path):\n",
    "\n",
    "    #extract mfcc features or not\n",
    "\n",
    "    pd_audiofiles_names = getListOfAudioFiles(pd_audiofiles_path)\n",
    "    control_audiofiles_names = getListOfAudioFiles(control_audiofiles_path)\n",
    "\n",
    "    if flag_extract_mfcc:\n",
    "\n",
    "        original_features_df = pd.DataFrame(columns=['Duration', 'meanF0', 'stdevF0', 'hnr', 'localJitter', 'localabsoluteJitter', 'rapJitter', 'ppq5Jitter', 'ddpJitter', 'localShimmer', 'localdbShimmer', 'apq3Shimmer', 'aqpq5Shimmer', 'apq11Shimmer', 'ddaShimmer', 'mfcc0', 'mfcc1', 'mfcc2', 'mfcc3', 'mfcc4', 'mfcc5', 'mfcc6', 'mfcc7', 'mfcc8', 'mfcc9', 'mfcc10', 'mfcc11', 'mfcc12','PD'])\n",
    "\n",
    "    else:\n",
    "        original_features_df = pd.DataFrame(columns=['Duration', 'meanF0', 'stdevF0', 'hnr', 'localJitter', 'localabsoluteJitter', 'rapJitter', 'ppq5Jitter', 'ddpJitter', 'localShimmer', 'localdbShimmer', 'apq3Shimmer', 'aqpq5Shimmer', 'apq11Shimmer', 'ddaShimmer','PD'])\n",
    "\n",
    "\n",
    "    for i in tqdm(range(len(pd_audiofiles_names)-1)):\n",
    "        values = getFeatures(pd_audiofiles_path+'/'+pd_audiofiles_names[i], 75, 500, \"Hertz\")\n",
    "        if flag_extract_mfcc:\n",
    "            mfcc_values = flag_extract_mfcc(pd_audiofiles_path+'/'+pd_audiofiles_names[i])\n",
    "        if (values!=-1):\n",
    "\n",
    "            duration, meanF0, stdevF0, hnr, localJitter, localabsoluteJitter, rapJitter, ppq5Jitter, ddpJitter, localShimmer, localdbShimmer, apq3Shimmer, aqpq5Shimmer, apq11Shimmer, ddaShimmer = values\n",
    "            \n",
    "            if (flag_extract_mfcc and mfcc_values!=-1):\n",
    "                mfcc0,mfcc1,mfcc2,mfcc3,mfcc4,mfcc5,mfcc6,mfcc7,mfcc8,mfcc9,mfcc10,mfcc11,mfcc12 = mfcc_values\n",
    "                original_features_df.loc[len(original_features_df)] = [duration, meanF0, stdevF0, hnr, localJitter, localabsoluteJitter, rapJitter, ppq5Jitter, ddpJitter, localShimmer, localdbShimmer, apq3Shimmer, aqpq5Shimmer, apq11Shimmer, ddaShimmer, mfcc0, mfcc1, mfcc2, mfcc3, mfcc4, mfcc5, mfcc6, mfcc7, mfcc8, mfcc9, mfcc10, mfcc11, mfcc12,1]\n",
    "            else:\n",
    "                original_features_df.loc[len(original_features_df)] = [duration, meanF0, stdevF0, hnr, localJitter, localabsoluteJitter, rapJitter, ppq5Jitter, ddpJitter, localShimmer, localdbShimmer, apq3Shimmer, aqpq5Shimmer, apq11Shimmer, ddaShimmer,1]\n",
    "\n",
    "    for i in tqdm(range(len(control_audiofiles_names)-1)):\n",
    "        values = getFeatures(control_audiofiles_path+'/'+control_audiofiles_names[i], 75, 500, \"Hertz\")\n",
    "        if flag_extract_mfcc:\n",
    "            mfcc_values = flag_extract_mfcc(control_audiofiles_path+'/'+control_audiofiles_names[i])\n",
    "\n",
    "        if (values!=-1):\n",
    "            duration, meanF0, stdevF0, hnr, localJitter, localabsoluteJitter, rapJitter, ppq5Jitter, ddpJitter, localShimmer, localdbShimmer, apq3Shimmer, aqpq5Shimmer, apq11Shimmer, ddaShimmer = values\n",
    "\n",
    "            if (flag_extract_mfcc and mfcc_values!=-1):\n",
    "                mfcc0,mfcc1,mfcc2,mfcc3,mfcc4,mfcc5,mfcc6,mfcc7,mfcc8,mfcc9,mfcc10,mfcc11,mfcc12 = mfcc_values\n",
    "                original_features_df.loc[len(original_features_df)] = [duration, meanF0, stdevF0, hnr, localJitter, localabsoluteJitter, rapJitter, ppq5Jitter, ddpJitter, localShimmer, localdbShimmer, apq3Shimmer, aqpq5Shimmer, apq11Shimmer, ddaShimmer, mfcc0, mfcc1, mfcc2, mfcc3, mfcc4, mfcc5, mfcc6, mfcc7, mfcc8, mfcc9, mfcc10, mfcc11, mfcc12,0]\n",
    "            \n",
    "            else:\n",
    "                original_features_df.loc[len(original_features_df)] = [duration, meanF0, stdevF0, hnr, localJitter, localabsoluteJitter, rapJitter, ppq5Jitter, ddpJitter, localShimmer, localdbShimmer, apq3Shimmer, aqpq5Shimmer, apq11Shimmer, ddaShimmer, 0]\n",
    "\n",
    "    return original_features_df\n"
   ]
  },
  {
   "cell_type": "code",
   "execution_count": 6,
   "metadata": {},
   "outputs": [
    {
     "data": {
      "application/vnd.jupyter.widget-view+json": {
       "model_id": "f377d38ae3214ae4a998d5ae19934c23",
       "version_major": 2,
       "version_minor": 0
      },
      "text/plain": [
       "  0%|          | 0/341 [00:00<?, ?it/s]"
      ]
     },
     "metadata": {},
     "output_type": "display_data"
    },
    {
     "data": {
      "application/vnd.jupyter.widget-view+json": {
       "model_id": "8575758410f74b7e9b89725bea8581cf",
       "version_major": 2,
       "version_minor": 0
      },
      "text/plain": [
       "  0%|          | 0/473 [00:00<?, ?it/s]"
      ]
     },
     "metadata": {},
     "output_type": "display_data"
    }
   ],
   "source": [
    "mdvr_original_featuers_df = getFeaturesFromAudioFiles(mdvr_pd_audiofiles_path, mdvr_control_audiofiles_path)"
   ]
  },
  {
   "cell_type": "code",
   "execution_count": 7,
   "metadata": {},
   "outputs": [
    {
     "data": {
      "application/vnd.jupyter.widget-view+json": {
       "model_id": "7850c871b8c744d59e6e0ea66d70c1f8",
       "version_major": 2,
       "version_minor": 0
      },
      "text/plain": [
       "  0%|          | 0/274 [00:00<?, ?it/s]"
      ]
     },
     "metadata": {},
     "output_type": "display_data"
    },
    {
     "data": {
      "application/vnd.jupyter.widget-view+json": {
       "model_id": "6788f6ae0e804034affaf0295537773e",
       "version_major": 2,
       "version_minor": 0
      },
      "text/plain": [
       "  0%|          | 0/219 [00:00<?, ?it/s]"
      ]
     },
     "metadata": {},
     "output_type": "display_data"
    }
   ],
   "source": [
    "italian_original_features_df = getFeaturesFromAudioFiles(italian_pd_audiofiles_path, italian_control_audiofiles_path)\n"
   ]
  },
  {
   "cell_type": "code",
   "execution_count": 8,
   "metadata": {},
   "outputs": [],
   "source": [
    "italian_outname = 'italian_original_features.csv'\n",
    "mdvr_outname = 'mdvr_original_featuers.csv'\n",
    "\n",
    "outdir = '../data/tables/'\n",
    "if not os.path.exists(outdir):\n",
    "    os.mkdir(outdir)\n",
    "\n",
    "italian_original_features_df.to_csv(os.path.join(outdir, italian_outname),index=False)\n",
    "mdvr_original_featuers_df.to_csv(os.path.join(outdir, mdvr_outname),index=False)"
   ]
  }
 ],
 "metadata": {
  "kernelspec": {
   "display_name": "venv",
   "language": "python",
   "name": "python3"
  },
  "language_info": {
   "codemirror_mode": {
    "name": "ipython",
    "version": 3
   },
   "file_extension": ".py",
   "mimetype": "text/x-python",
   "name": "python",
   "nbconvert_exporter": "python",
   "pygments_lexer": "ipython3",
   "version": "3.11.6"
  }
 },
 "nbformat": 4,
 "nbformat_minor": 2
}
